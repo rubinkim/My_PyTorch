{
 "cells": [
  {
   "cell_type": "code",
   "execution_count": 4,
   "id": "b1ce296b-f534-45a7-a150-de37be2c5a1f",
   "metadata": {},
   "outputs": [],
   "source": [
    "# import modules needed\n",
    "import os\n",
    "import time\n",
    "import copy\n",
    "import glob\n",
    "import cv2\n",
    "import shutil\n",
    "import matplotlib.pyplot as plt\n",
    "\n",
    "import torch\n",
    "import torchvision                                  # computer vision package\n",
    "import torchvision.transforms as transforms\n",
    "import torchvision.models as models\n",
    "import torch.nn as nn\n",
    "import torch.optim as optim\n",
    "from torch.utils.data import DataLoader"
   ]
  },
  {
   "cell_type": "code",
   "execution_count": 5,
   "id": "b168c986-4cb5-4b78-87dc-262b0e488cd3",
   "metadata": {},
   "outputs": [],
   "source": [
    "transform = transforms.Compose([\n",
    "    transforms.Resize([256, 256]),                  # Adjust image size to 256*256\n",
    "    transforms.RandomResizedCrop(224),              # Crop a random portion of image and resize it to 224\n",
    "    transforms.RandomHorizontalFlip(),              # Horizontally flip the given image randomly with a given probability, Default prop is 0.5\n",
    "    transforms.ToTensor()\n",
    "])"
   ]
  },
  {
   "cell_type": "code",
   "execution_count": 6,
   "id": "62f28eef-ece8-424b-b7ff-59265b33bb91",
   "metadata": {},
   "outputs": [],
   "source": [
    "data_path = '../My_PyTorch_Data/gilbut/chap05/data/catanddog/train'"
   ]
  },
  {
   "cell_type": "code",
   "execution_count": 12,
   "id": "9c5bc790-00ef-4493-bd00-892cc7291664",
   "metadata": {},
   "outputs": [],
   "source": [
    "# 로컬에 저장된 이미지 데이터를 불러올 때 사용하는 PyTorch 라이브러리이다.\n",
    "# 분류하려는 label의 class개수에 따라 folder를 생성하고 그 안에 해당 label에 맞는 이미지를 저장한다.\n",
    "# ImageFolder를 사용하려면 기본적인 디렉토리 골격을 지켜줘야 한다.\n",
    "# 주목할 점은 제일 하위 디렉토리가 클래스명으로 이루어져 있다는 거다.\n",
    "# 일반적으로 train, test용으로 각각 ImageFolder 객체를 생성한다.\n",
    "# - train_imgfolder = ImageFolder(root = 'data/train', transform=transform)\n",
    "# - test_imgfolder = ImageFolder(root = 'data/test', transform=transform)\n",
    "# root에 입력된 path정보를 통해 해당경로 하위에 class명 디렉토리가 위치한다는 걸 ImageFolder가 알 수 있다.\n",
    "# DataLoader에 train_imgfolder과 test_imgfolder를 각각 넣어준다."
   ]
  },
  {
   "cell_type": "code",
   "execution_count": 9,
   "id": "871384f0-1ca6-45da-a814-55ebe9cbd469",
   "metadata": {},
   "outputs": [
    {
     "name": "stdout",
     "output_type": "stream",
     "text": [
      "['Cat', 'Dog']\n",
      "{'Cat': 0, 'Dog': 1}\n"
     ]
    }
   ],
   "source": [
    "# A generic data loader where the images are arranged in this way by default\n",
    "train_dataset = torchvision.datasets.ImageFolder(root=data_path, transform=transform)\n",
    "print(train_dataset.classes)\n",
    "print(train_dataset.class_to_idx)"
   ]
  },
  {
   "cell_type": "code",
   "execution_count": 20,
   "id": "fde65087-9c9d-49d4-9838-7baf0cd964a6",
   "metadata": {},
   "outputs": [
    {
     "name": "stdout",
     "output_type": "stream",
     "text": [
      "<torch.utils.data.dataloader.DataLoader object at 0x000002C82C51A700>\n",
      "samples shape : torch.Size([10, 3, 224, 224]),   labels shape : torch.Size([10])\n"
     ]
    }
   ],
   "source": [
    "train_loader = DataLoader(dataset=train_dataset, batch_size=10, num_workers=8, shuffle=True)\n",
    "print(train_loader)\n",
    "\n",
    "samples, labels = iter(train_loader).next()\n",
    "print(f\"samples shape : {samples.shape},   labels shape : {labels.shape}\")"
   ]
  },
  {
   "cell_type": "code",
   "execution_count": 21,
   "id": "aafe2a38-bc8b-4690-815e-b497e0a87999",
   "metadata": {},
   "outputs": [
    {
     "name": "stdout",
     "output_type": "stream",
     "text": [
      " 0 : inputs shape : torch.Size([10, 3, 224, 224]),  labels shape : torch.Size([10])\n",
      " 1 : inputs shape : torch.Size([10, 3, 224, 224]),  labels shape : torch.Size([10])\n",
      " 2 : inputs shape : torch.Size([10, 3, 224, 224]),  labels shape : torch.Size([10])\n",
      " 3 : inputs shape : torch.Size([10, 3, 224, 224]),  labels shape : torch.Size([10])\n",
      " 4 : inputs shape : torch.Size([10, 3, 224, 224]),  labels shape : torch.Size([10])\n",
      " 5 : inputs shape : torch.Size([10, 3, 224, 224]),  labels shape : torch.Size([10])\n",
      " 6 : inputs shape : torch.Size([10, 3, 224, 224]),  labels shape : torch.Size([10])\n",
      " 7 : inputs shape : torch.Size([10, 3, 224, 224]),  labels shape : torch.Size([10])\n",
      " 8 : inputs shape : torch.Size([10, 3, 224, 224]),  labels shape : torch.Size([10])\n",
      " 9 : inputs shape : torch.Size([10, 3, 224, 224]),  labels shape : torch.Size([10])\n",
      "10 : inputs shape : torch.Size([10, 3, 224, 224]),  labels shape : torch.Size([10])\n",
      "11 : inputs shape : torch.Size([10, 3, 224, 224]),  labels shape : torch.Size([10])\n",
      "12 : inputs shape : torch.Size([10, 3, 224, 224]),  labels shape : torch.Size([10])\n",
      "13 : inputs shape : torch.Size([10, 3, 224, 224]),  labels shape : torch.Size([10])\n",
      "14 : inputs shape : torch.Size([10, 3, 224, 224]),  labels shape : torch.Size([10])\n",
      "15 : inputs shape : torch.Size([10, 3, 224, 224]),  labels shape : torch.Size([10])\n",
      "16 : inputs shape : torch.Size([10, 3, 224, 224]),  labels shape : torch.Size([10])\n",
      "17 : inputs shape : torch.Size([10, 3, 224, 224]),  labels shape : torch.Size([10])\n",
      "18 : inputs shape : torch.Size([10, 3, 224, 224]),  labels shape : torch.Size([10])\n",
      "19 : inputs shape : torch.Size([10, 3, 224, 224]),  labels shape : torch.Size([10])\n",
      "20 : inputs shape : torch.Size([10, 3, 224, 224]),  labels shape : torch.Size([10])\n",
      "21 : inputs shape : torch.Size([10, 3, 224, 224]),  labels shape : torch.Size([10])\n",
      "22 : inputs shape : torch.Size([10, 3, 224, 224]),  labels shape : torch.Size([10])\n",
      "23 : inputs shape : torch.Size([10, 3, 224, 224]),  labels shape : torch.Size([10])\n",
      "24 : inputs shape : torch.Size([10, 3, 224, 224]),  labels shape : torch.Size([10])\n",
      "25 : inputs shape : torch.Size([10, 3, 224, 224]),  labels shape : torch.Size([10])\n",
      "26 : inputs shape : torch.Size([10, 3, 224, 224]),  labels shape : torch.Size([10])\n",
      "27 : inputs shape : torch.Size([10, 3, 224, 224]),  labels shape : torch.Size([10])\n",
      "28 : inputs shape : torch.Size([10, 3, 224, 224]),  labels shape : torch.Size([10])\n",
      "29 : inputs shape : torch.Size([10, 3, 224, 224]),  labels shape : torch.Size([10])\n",
      "30 : inputs shape : torch.Size([10, 3, 224, 224]),  labels shape : torch.Size([10])\n",
      "31 : inputs shape : torch.Size([10, 3, 224, 224]),  labels shape : torch.Size([10])\n",
      "32 : inputs shape : torch.Size([10, 3, 224, 224]),  labels shape : torch.Size([10])\n",
      "33 : inputs shape : torch.Size([10, 3, 224, 224]),  labels shape : torch.Size([10])\n",
      "34 : inputs shape : torch.Size([10, 3, 224, 224]),  labels shape : torch.Size([10])\n",
      "35 : inputs shape : torch.Size([10, 3, 224, 224]),  labels shape : torch.Size([10])\n",
      "36 : inputs shape : torch.Size([10, 3, 224, 224]),  labels shape : torch.Size([10])\n",
      "37 : inputs shape : torch.Size([10, 3, 224, 224]),  labels shape : torch.Size([10])\n",
      "38 : inputs shape : torch.Size([5, 3, 224, 224]),  labels shape : torch.Size([5])\n"
     ]
    }
   ],
   "source": [
    "for i, (inputs, labels) in enumerate(train_loader):\n",
    "    print(f\"{i:2d} : inputs shape : {inputs.shape},  labels shape : {labels.shape}\")"
   ]
  },
  {
   "cell_type": "code",
   "execution_count": 19,
   "id": "76be03ef-ab7d-49b3-aa54-c75a44f57707",
   "metadata": {},
   "outputs": [
    {
     "name": "stdout",
     "output_type": "stream",
     "text": [
      "385\n"
     ]
    }
   ],
   "source": [
    "print(32 * 12 + 1)"
   ]
  }
 ],
 "metadata": {
  "kernelspec": {
   "display_name": "Python 3 (ipykernel)",
   "language": "python",
   "name": "python3"
  },
  "language_info": {
   "codemirror_mode": {
    "name": "ipython",
    "version": 3
   },
   "file_extension": ".py",
   "mimetype": "text/x-python",
   "name": "python",
   "nbconvert_exporter": "python",
   "pygments_lexer": "ipython3",
   "version": "3.9.12"
  }
 },
 "nbformat": 4,
 "nbformat_minor": 5
}
