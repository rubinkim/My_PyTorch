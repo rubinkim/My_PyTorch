{
 "cells": [
  {
   "cell_type": "code",
   "execution_count": 23,
   "id": "db27b871-de28-4c94-a18a-4ab9640154f2",
   "metadata": {},
   "outputs": [],
   "source": [
    "import torch\n",
    "from torchvision.models import resnet18"
   ]
  },
  {
   "cell_type": "code",
   "execution_count": 24,
   "id": "69916363-63ab-434c-9765-42348e753ea3",
   "metadata": {},
   "outputs": [],
   "source": [
    "model = resnet18(pretrained=True)"
   ]
  },
  {
   "cell_type": "code",
   "execution_count": 42,
   "id": "9d3b6149-0354-40f8-918e-3f7c373f81a9",
   "metadata": {},
   "outputs": [
    {
     "name": "stdout",
     "output_type": "stream",
     "text": [
      "data shape : torch.Size([1, 3, 64, 64]),  labels shape : torch.Size([1, 1000])\n"
     ]
    }
   ],
   "source": [
    "torch.manual_seed(2024)\n",
    "data = torch.rand(1, 3, 64, 64)\n",
    "labels = torch.rand(1, 1000)\n",
    "print(f\"data shape : {data.shape},  labels shape : {labels.shape}\")"
   ]
  },
  {
   "cell_type": "code",
   "execution_count": 34,
   "id": "a24e0a0d-b91e-48f7-93dc-bd1a5ae02f9f",
   "metadata": {},
   "outputs": [
    {
     "name": "stdout",
     "output_type": "stream",
     "text": [
      "The first 3 rows of data :\n",
      "tensor([[[0.5317, 0.8313, 0.9718, 0.1193],\n",
      "         [0.1669, 0.3495, 0.2150, 0.6201],\n",
      "         [0.4849, 0.7492, 0.1521, 0.5625],\n",
      "         [0.1735, 0.7046, 0.9265, 0.4061],\n",
      "         [0.3045, 0.9073, 0.7637, 0.6101]],\n",
      "\n",
      "        [[0.8914, 0.9090, 0.6652, 0.6786],\n",
      "         [0.2268, 0.5031, 0.2151, 0.7988],\n",
      "         [0.0784, 0.0706, 0.2972, 0.0692],\n",
      "         [0.9827, 0.6969, 0.6907, 0.4406],\n",
      "         [0.5646, 0.1914, 0.3562, 0.5626]],\n",
      "\n",
      "        [[0.0469, 0.4520, 0.4588, 0.7574],\n",
      "         [0.9929, 0.5146, 0.4524, 0.9701],\n",
      "         [0.2343, 0.6591, 0.6730, 0.1999],\n",
      "         [0.2684, 0.5766, 0.2735, 0.4980],\n",
      "         [0.9732, 0.4558, 0.7026, 0.8392]]])\n"
     ]
    }
   ],
   "source": [
    "print(f\"The first 3 rows of data :\\n{data[0][:]}\")"
   ]
  },
  {
   "cell_type": "code",
   "execution_count": 41,
   "id": "3be2074d-6d40-4343-900d-6fb99862df32",
   "metadata": {},
   "outputs": [
    {
     "data": {
      "text/plain": [
       "tensor([[[0.5317, 0.8313, 0.9718, 0.1193],\n",
       "         [0.1669, 0.3495, 0.2150, 0.6201],\n",
       "         [0.4849, 0.7492, 0.1521, 0.5625],\n",
       "         [0.1735, 0.7046, 0.9265, 0.4061],\n",
       "         [0.3045, 0.9073, 0.7637, 0.6101]],\n",
       "\n",
       "        [[0.8914, 0.9090, 0.6652, 0.6786],\n",
       "         [0.2268, 0.5031, 0.2151, 0.7988],\n",
       "         [0.0784, 0.0706, 0.2972, 0.0692],\n",
       "         [0.9827, 0.6969, 0.6907, 0.4406],\n",
       "         [0.5646, 0.1914, 0.3562, 0.5626]]])"
      ]
     },
     "execution_count": 41,
     "metadata": {},
     "output_type": "execute_result"
    }
   ],
   "source": [
    "data[0][:][:][:][:2]"
   ]
  },
  {
   "cell_type": "code",
   "execution_count": 22,
   "id": "1a49d160-103c-4b83-8365-26ac04773815",
   "metadata": {},
   "outputs": [
    {
     "name": "stdout",
     "output_type": "stream",
     "text": [
      "The first 3 values of labels :\n",
      "tensor([0.3281, 0.4538, 0.5450])\n"
     ]
    }
   ],
   "source": [
    "print(f\"The first 3 values of labels :\\n{labels[0][:3]}\")"
   ]
  },
  {
   "cell_type": "code",
   "execution_count": 14,
   "id": "092a3420-68d7-4407-ad7e-ea2f04e84e0a",
   "metadata": {},
   "outputs": [
    {
     "name": "stdout",
     "output_type": "stream",
     "text": [
      "prediction shape : torch.Size([1, 1000])\n"
     ]
    },
    {
     "name": "stderr",
     "output_type": "stream",
     "text": [
      "C:\\Users\\rubin\\anaconda3\\envs\\torch_book\\lib\\site-packages\\torch\\nn\\functional.py:718: UserWarning: Named tensors and all their associated APIs are an experimental feature and subject to change. Please do not use them for anything important until they are released as stable. (Triggered internally at  ..\\c10/core/TensorImpl.h:1156.)\n",
      "  return torch.max_pool2d(input, kernel_size, stride, padding, dilation, ceil_mode)\n"
     ]
    }
   ],
   "source": [
    "predictions = model(data)\n",
    "print(f\"prediction shape : {predictions.shape}\")"
   ]
  },
  {
   "cell_type": "code",
   "execution_count": null,
   "id": "0900f5fa-4591-4111-b2e6-d8d0d72a84a9",
   "metadata": {},
   "outputs": [],
   "source": []
  }
 ],
 "metadata": {
  "kernelspec": {
   "display_name": "Python 3 (ipykernel)",
   "language": "python",
   "name": "python3"
  },
  "language_info": {
   "codemirror_mode": {
    "name": "ipython",
    "version": 3
   },
   "file_extension": ".py",
   "mimetype": "text/x-python",
   "name": "python",
   "nbconvert_exporter": "python",
   "pygments_lexer": "ipython3",
   "version": "3.9.12"
  }
 },
 "nbformat": 4,
 "nbformat_minor": 5
}
