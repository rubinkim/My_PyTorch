{
 "cells": [
  {
   "cell_type": "code",
   "execution_count": null,
   "id": "db27b871-de28-4c94-a18a-4ab9640154f2",
   "metadata": {},
   "outputs": [],
   "source": []
  }
 ],
 "metadata": {
  "kernelspec": {
   "display_name": "",
   "name": ""
  },
  "language_info": {
   "name": ""
  }
 },
 "nbformat": 4,
 "nbformat_minor": 5
}
