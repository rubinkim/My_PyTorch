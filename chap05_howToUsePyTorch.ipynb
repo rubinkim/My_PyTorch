{
 "cells": [
  {
   "cell_type": "code",
   "execution_count": 23,
   "id": "db27b871-de28-4c94-a18a-4ab9640154f2",
   "metadata": {},
   "outputs": [],
   "source": [
    "import torch\n",
    "from torchvision.models import resnet18"
   ]
  },
  {
   "cell_type": "code",
   "execution_count": 24,
   "id": "69916363-63ab-434c-9765-42348e753ea3",
   "metadata": {},
   "outputs": [],
   "source": [
    "model = resnet18(pretrained=True)"
   ]
  },
  {
   "cell_type": "code",
   "execution_count": 25,
   "id": "9d3b6149-0354-40f8-918e-3f7c373f81a9",
   "metadata": {},
   "outputs": [
    {
     "name": "stdout",
     "output_type": "stream",
     "text": [
      "data shape : torch.Size([1, 3, 64, 64]),  labels shape : torch.Size([1, 1000])\n"
     ]
    }
   ],
   "source": [
    "torch.manual_seed(2024)\n",
    "data = torch.rand(1, 3, 5, 4)\n",
    "labels = torch.rand(1, 10)\n",
    "print(f\"data shape : {data.shape},  labels shape : {labels.shape}\")"
   ]
  },
  {
   "cell_type": "code",
   "execution_count": 26,
   "id": "a24e0a0d-b91e-48f7-93dc-bd1a5ae02f9f",
   "metadata": {},
   "outputs": [
    {
     "name": "stdout",
     "output_type": "stream",
     "text": [
      "The first 3 rows of data :\n",
      "tensor([[[[0.5317, 0.8313, 0.9718,  ..., 0.4847, 0.5086, 0.0755],\n",
      "          [0.1806, 0.8887, 0.0568,  ..., 0.7124, 0.3392, 0.8287],\n",
      "          [0.1990, 0.7496, 0.7408,  ..., 0.4832, 0.1860, 0.7967],\n",
      "          ...,\n",
      "          [0.9950, 0.4322, 0.4230,  ..., 0.5241, 0.6104, 0.2882],\n",
      "          [0.3538, 0.3196, 0.9105,  ..., 0.7177, 0.8401, 0.1001],\n",
      "          [0.1443, 0.7446, 0.2227,  ..., 0.8566, 0.7337, 0.5822]],\n",
      "\n",
      "         [[0.3231, 0.7837, 0.2890,  ..., 0.0890, 0.5950, 0.0524],\n",
      "          [0.2924, 0.9103, 0.9647,  ..., 0.0363, 0.8849, 0.8601],\n",
      "          [0.5322, 0.9166, 0.0131,  ..., 0.5262, 0.4500, 0.9072],\n",
      "          ...,\n",
      "          [0.1001, 0.5510, 0.0747,  ..., 0.2623, 0.7240, 0.5774],\n",
      "          [0.5152, 0.2218, 0.3293,  ..., 0.9807, 0.7555, 0.0507],\n",
      "          [0.8055, 0.1036, 0.4741,  ..., 0.5605, 0.9798, 0.2815]],\n",
      "\n",
      "         [[0.8189, 0.3113, 0.5315,  ..., 0.1022, 0.0160, 0.1067],\n",
      "          [0.4933, 0.4094, 0.9481,  ..., 0.1944, 0.9233, 0.8198],\n",
      "          [0.3355, 0.2035, 0.6832,  ..., 0.1703, 0.3361, 0.0343],\n",
      "          ...,\n",
      "          [0.3476, 0.7723, 0.2224,  ..., 0.8373, 0.2227, 0.3774],\n",
      "          [0.9138, 0.0514, 0.2284,  ..., 0.0652, 0.1431, 0.4534],\n",
      "          [0.6721, 0.8034, 0.3719,  ..., 0.5990, 0.0174, 0.7703]]]])\n"
     ]
    }
   ],
   "source": [
    "print(f\"The first 3 rows of data :\\n{data[:3]}\")"
   ]
  },
  {
   "cell_type": "code",
   "execution_count": 22,
   "id": "1a49d160-103c-4b83-8365-26ac04773815",
   "metadata": {},
   "outputs": [
    {
     "name": "stdout",
     "output_type": "stream",
     "text": [
      "The first 3 values of labels :\n",
      "tensor([0.3281, 0.4538, 0.5450])\n"
     ]
    }
   ],
   "source": [
    "print(f\"The first 3 values of labels :\\n{labels[0][:3]}\")"
   ]
  },
  {
   "cell_type": "code",
   "execution_count": 14,
   "id": "092a3420-68d7-4407-ad7e-ea2f04e84e0a",
   "metadata": {},
   "outputs": [
    {
     "name": "stdout",
     "output_type": "stream",
     "text": [
      "prediction shape : torch.Size([1, 1000])\n"
     ]
    },
    {
     "name": "stderr",
     "output_type": "stream",
     "text": [
      "C:\\Users\\rubin\\anaconda3\\envs\\torch_book\\lib\\site-packages\\torch\\nn\\functional.py:718: UserWarning: Named tensors and all their associated APIs are an experimental feature and subject to change. Please do not use them for anything important until they are released as stable. (Triggered internally at  ..\\c10/core/TensorImpl.h:1156.)\n",
      "  return torch.max_pool2d(input, kernel_size, stride, padding, dilation, ceil_mode)\n"
     ]
    }
   ],
   "source": [
    "predictions = model(data)\n",
    "print(f\"prediction shape : {predictions.shape}\")"
   ]
  },
  {
   "cell_type": "code",
   "execution_count": null,
   "id": "0900f5fa-4591-4111-b2e6-d8d0d72a84a9",
   "metadata": {},
   "outputs": [],
   "source": []
  }
 ],
 "metadata": {
  "kernelspec": {
   "display_name": "Python 3 (ipykernel)",
   "language": "python",
   "name": "python3"
  },
  "language_info": {
   "codemirror_mode": {
    "name": "ipython",
    "version": 3
   },
   "file_extension": ".py",
   "mimetype": "text/x-python",
   "name": "python",
   "nbconvert_exporter": "python",
   "pygments_lexer": "ipython3",
   "version": "3.9.12"
  }
 },
 "nbformat": 4,
 "nbformat_minor": 5
}
