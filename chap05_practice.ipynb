{
 "cells": [
  {
   "cell_type": "code",
   "execution_count": 1,
   "metadata": {},
   "outputs": [],
   "source": [
    "import torch\n",
    "import torch.nn as nn"
   ]
  },
  {
   "cell_type": "code",
   "execution_count": 3,
   "metadata": {},
   "outputs": [
    {
     "name": "stdout",
     "output_type": "stream",
     "text": [
      "loss : CrossEntropyLoss(),  type of loss : <class 'torch.nn.modules.loss.CrossEntropyLoss'>\n"
     ]
    }
   ],
   "source": [
    "loss = nn.CrossEntropyLoss()\n",
    "print(f\"loss : {loss},  type of loss : {type(loss)}\")"
   ]
  },
  {
   "cell_type": "code",
   "execution_count": 8,
   "metadata": {},
   "outputs": [
    {
     "name": "stdout",
     "output_type": "stream",
     "text": [
      "input : \n",
      "tensor([[-0.0404,  1.7260, -0.8140,  1.3722,  0.5060],\n",
      "        [-0.4823, -0.7853,  0.6681, -0.4439,  0.1888],\n",
      "        [ 0.5986,  0.6458,  0.6306, -1.4668, -0.6798]], requires_grad=True)\n"
     ]
    }
   ],
   "source": [
    "torch.manual_seed(2024)\n",
    "input = torch.randn(3, 5, requires_grad=True)\n",
    "print(f\"input :\\n{input}\")\n",
    "print()\n",
    "\n",
    "target = torch.empty(3, dtype=torch.long).random_(5)\n",
    "print(f\"target :\\n{target}\")"
   ]
  },
  {
   "cell_type": "code",
   "execution_count": null,
   "metadata": {},
   "outputs": [],
   "source": []
  }
 ],
 "metadata": {
  "kernelspec": {
   "display_name": "torch_book",
   "language": "python",
   "name": "python3"
  },
  "language_info": {
   "codemirror_mode": {
    "name": "ipython",
    "version": 3
   },
   "file_extension": ".py",
   "mimetype": "text/x-python",
   "name": "python",
   "nbconvert_exporter": "python",
   "pygments_lexer": "ipython3",
   "version": "3.9.12"
  }
 },
 "nbformat": 4,
 "nbformat_minor": 2
}
