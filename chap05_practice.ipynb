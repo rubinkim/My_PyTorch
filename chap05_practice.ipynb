{
 "cells": [
  {
   "cell_type": "code",
   "execution_count": 1,
   "metadata": {},
   "outputs": [],
   "source": [
    "import torch\n",
    "import torch.nn as nn"
   ]
  },
  {
   "cell_type": "code",
   "execution_count": 3,
   "metadata": {},
   "outputs": [
    {
     "name": "stdout",
     "output_type": "stream",
     "text": [
      "loss : CrossEntropyLoss(),  type of loss : <class 'torch.nn.modules.loss.CrossEntropyLoss'>\n"
     ]
    }
   ],
   "source": [
    "loss = nn.CrossEntropyLoss()\n",
    "print(f\"loss : {loss},  type of loss : {type(loss)}\")"
   ]
  },
  {
   "cell_type": "code",
   "execution_count": 31,
   "metadata": {},
   "outputs": [
    {
     "name": "stdout",
     "output_type": "stream",
     "text": [
      "input :\n",
      "tensor([[-0.1222, -0.7573,  1.0416,  0.3303,  0.5315],\n",
      "        [-1.0235,  1.3560,  0.3086,  0.5228, -1.0928],\n",
      "        [ 1.9796, -0.2610, -0.1857,  0.8947, -0.5097]], requires_grad=True)\n",
      "\n",
      "target :\n",
      "tensor([0, 2, 4])\n"
     ]
    }
   ],
   "source": [
    "torch.manual_seed(111)\n",
    "input = torch.randn(3, 5, requires_grad=True)\n",
    "print(f\"input :\\n{input}\")\n",
    "print()\n",
    "\n",
    "target = torch.empty(3, dtype=torch.long).random_(5)\n",
    "print(f\"target :\\n{target}\")"
   ]
  },
  {
   "cell_type": "code",
   "execution_count": 34,
   "metadata": {},
   "outputs": [
    {
     "name": "stdout",
     "output_type": "stream",
     "text": [
      "tensor(2.2718, grad_fn=<NllLossBackward>)\n"
     ]
    }
   ],
   "source": [
    "output = loss(input, target)\n",
    "print(output)"
   ]
  },
  {
   "cell_type": "code",
   "execution_count": 35,
   "metadata": {},
   "outputs": [],
   "source": [
    "output.backward()"
   ]
  },
  {
   "cell_type": "code",
   "execution_count": 36,
   "metadata": {},
   "outputs": [
    {
     "data": {
      "text/plain": [
       "tensor(2.2718, grad_fn=<NllLossBackward>)"
      ]
     },
     "execution_count": 36,
     "metadata": {},
     "output_type": "execute_result"
    }
   ],
   "source": [
    "loss(input, target)"
   ]
  },
  {
   "cell_type": "code",
   "execution_count": null,
   "metadata": {},
   "outputs": [],
   "source": []
  },
  {
   "cell_type": "code",
   "execution_count": 38,
   "metadata": {},
   "outputs": [
    {
     "name": "stdout",
     "output_type": "stream",
     "text": [
      "input :\n",
      "tensor([[-0.1222, -0.7573,  1.0416,  0.3303,  0.5315],\n",
      "        [-1.0235,  1.3560,  0.3086,  0.5228, -1.0928],\n",
      "        [ 1.9796, -0.2610, -0.1857,  0.8947, -0.5097]], requires_grad=True)\n",
      "\n",
      "target :\n",
      "tensor([[0.5297, 0.2047, 0.0511, 0.0235, 0.1910],\n",
      "        [0.4833, 0.2020, 0.0526, 0.1142, 0.1479],\n",
      "        [0.3178, 0.1287, 0.0485, 0.3405, 0.1645]])\n"
     ]
    }
   ],
   "source": [
    "torch.manual_seed(111)\n",
    "loss = nn.CrossEntropyLoss()\n",
    "input = torch.randn(3, 5, requires_grad=True)\n",
    "print(f\"input :\\n{input}\")\n",
    "print()\n",
    "target = torch.randn(3,5).softmax(dim=1)\n",
    "print(f\"target :\\n{target}\")\n",
    "print()\n",
    "output = loss(input, target)\n",
    "print(f\"output : {output}\")\n",
    "output.backward()"
   ]
  }
 ],
 "metadata": {
  "kernelspec": {
   "display_name": "torch_book",
   "language": "python",
   "name": "python3"
  },
  "language_info": {
   "codemirror_mode": {
    "name": "ipython",
    "version": 3
   },
   "file_extension": ".py",
   "mimetype": "text/x-python",
   "name": "python",
   "nbconvert_exporter": "python",
   "pygments_lexer": "ipython3",
   "version": "3.9.12"
  }
 },
 "nbformat": 4,
 "nbformat_minor": 2
}
