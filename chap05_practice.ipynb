{
 "cells": [
  {
   "cell_type": "code",
   "execution_count": 1,
   "metadata": {},
   "outputs": [],
   "source": [
    "import torch\n",
    "import torch.nn as nn"
   ]
  },
  {
   "cell_type": "code",
   "execution_count": 50,
   "metadata": {},
   "outputs": [
    {
     "ename": "SyntaxError",
     "evalue": "invalid syntax (548641579.py, line 1)",
     "output_type": "error",
     "traceback": [
      "\u001b[1;36m  Cell \u001b[1;32mIn[50], line 1\u001b[1;36m\u001b[0m\n\u001b[1;33m    logits = torch.tensor([[1.2, 0,5, -0.8], [-0.5, 0.8, 2.0]], requires_grad=)\u001b[0m\n\u001b[1;37m                                                                              ^\u001b[0m\n\u001b[1;31mSyntaxError\u001b[0m\u001b[1;31m:\u001b[0m invalid syntax\n"
     ]
    }
   ],
   "source": [
    "logits = torch.tensor([[1.2, 0,5, -0.8], [-0.5, 0.8, 2.0]], requires_grad=True)\n",
    "labels = torch.tensor([0, 2])\n",
    "\n",
    "cross_entropy_loss = nn.CrossEntropyLoss()\n",
    "loss = cross_entropy_loss(logits, labels)\n",
    "print(loss)\n",
    "loss.backward()\n",
    "\n",
    "import numpy as np\n",
    "my_loss = -(np.log(1,2) + np.log(2.0))\n",
    "print(my_loss)"
   ]
  },
  {
   "cell_type": "code",
   "execution_count": 48,
   "metadata": {},
   "outputs": [],
   "source": [
    "logits = torch.tensor([[1.2, 0.5, -0.8], [-0.5, 0.8, 2.0]], requires_grad=True)"
   ]
  }
 ],
 "metadata": {
  "kernelspec": {
   "display_name": "torch_book",
   "language": "python",
   "name": "python3"
  },
  "language_info": {
   "codemirror_mode": {
    "name": "ipython",
    "version": 3
   },
   "file_extension": ".py",
   "mimetype": "text/x-python",
   "name": "python",
   "nbconvert_exporter": "python",
   "pygments_lexer": "ipython3",
   "version": "3.9.12"
  }
 },
 "nbformat": 4,
 "nbformat_minor": 2
}
