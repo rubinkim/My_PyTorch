{
 "cells": [
  {
   "cell_type": "code",
   "execution_count": 1,
   "metadata": {},
   "outputs": [],
   "source": [
    "import numpy as np\n",
    "import matplotlib.pyplot as plt\n",
    "\n",
    "import torch\n",
    "import torch.nn as nn\n",
    "from torch.autograd import Variable\n",
    "import torch.nn.functional as F\n",
    "\n",
    "import torchvision\n",
    "import torchvision.transforms as transforms\n",
    "from torch.utils.data import Dataset, DataLoader"
   ]
  },
  {
   "cell_type": "code",
   "execution_count": 2,
   "metadata": {},
   "outputs": [
    {
     "data": {
      "text/plain": [
       "device(type='cuda', index=0)"
      ]
     },
     "execution_count": 2,
     "metadata": {},
     "output_type": "execute_result"
    }
   ],
   "source": [
    "device = torch.device(\"cuda:0\" if torch.cuda.is_available else \"cpu\")\n",
    "device"
   ]
  },
  {
   "cell_type": "code",
   "execution_count": 3,
   "metadata": {},
   "outputs": [
    {
     "name": "stderr",
     "output_type": "stream",
     "text": [
      "c:\\Users\\rubin\\anaconda3\\envs\\torch_book\\lib\\site-packages\\torchvision\\datasets\\mnist.py:498: UserWarning: The given NumPy array is not writeable, and PyTorch does not support non-writeable tensors. This means you can write to the underlying (supposedly non-writeable) NumPy array using the tensor. You may want to copy the array to protect its data or make it writeable before converting it to a tensor. This type of warning will be suppressed for the rest of this program. (Triggered internally at  ..\\torch\\csrc\\utils\\tensor_numpy.cpp:180.)\n",
      "  return torch.from_numpy(parsed.astype(m[2], copy=False)).view(*s)\n"
     ]
    }
   ],
   "source": [
    "data_directory = \"../My_PyTorch_Data/gilbut/chap05/data\"\n",
    "train_dataset = torchvision.datasets.FashionMNIST(data_directory, download=True, transform=transforms.Compose([transforms.ToTensor()]))\n",
    "test_dataset = torchvision.datasets.FashionMNIST(data_directory, download=True, train=False, transform=transforms.Compose([transforms.ToTensor()]))"
   ]
  },
  {
   "cell_type": "code",
   "execution_count": 4,
   "metadata": {},
   "outputs": [],
   "source": [
    "train_loader = DataLoader(train_dataset, batch_size=100)\n",
    "test_loader = DataLoader(test_dataset, batch_size=100)"
   ]
  },
  {
   "cell_type": "code",
   "execution_count": 5,
   "metadata": {},
   "outputs": [],
   "source": [
    "labels_map = {0:'T-Shirt', 1:'Trouser', 2:'Pullover', 3:'Dress', 4:'Coat', 5:'Sandal', 6:'Shirt', 7:'Sneaker', 8:'Bag', 9:'AnkleBoot'}"
   ]
  },
  {
   "cell_type": "code",
   "execution_count": 6,
   "metadata": {},
   "outputs": [],
   "source": [
    "class FashionCNN(nn.Module):\n",
    "    def __init__(self):\n",
    "        super(FashionCNN, self).__init__()\n",
    "        self.layer1 = nn.Sequential(\n",
    "            nn.Conv2d(in_channels=1, out_channels=32, kernel_size=3, padding=1),\n",
    "            nn.BatchNorm2d(num_features=32),\n",
    "            nn.ReLU(),\n",
    "            nn.MaxPool2d(kernel_size=2, stride=2)\n",
    "        )\n",
    "        self.layer2 = nn.Sequential(\n",
    "            nn.Conv2d(in_channels=32, out_channels=64, kernel_size=3),\n",
    "            nn.BatchNorm2d(num_features=64), \n",
    "            nn.ReLU(),\n",
    "            nn.MaxPool2d(kernel_size=2)\n",
    "        )\n",
    "        self.fc1 = nn.Linear(in_features=64*6*6, out_features=600)\n",
    "        self.drop = nn.Dropout2d(p=0.25)\n",
    "        self.fc2 = nn.Linear(in_features=600, out_features=120)\n",
    "        self.fc3 = nn.Linear(in_features=120, out_features=10)\n",
    "        \n",
    "    def forward(self, x):\n",
    "        out = self.layer1(x)\n",
    "        out = self.layer2(out)\n",
    "        out = out.view(out.size(0), -1)\n",
    "        out = self.fc1(out)\n",
    "        out = self.drop(out)\n",
    "        out = self.fc2(out)\n",
    "        out = self.fc3(out)\n",
    "        return out"
   ]
  },
  {
   "cell_type": "code",
   "execution_count": 7,
   "metadata": {},
   "outputs": [
    {
     "name": "stdout",
     "output_type": "stream",
     "text": [
      "FashionCNN(\n",
      "  (layer1): Sequential(\n",
      "    (0): Conv2d(1, 32, kernel_size=(3, 3), stride=(1, 1), padding=(1, 1))\n",
      "    (1): BatchNorm2d(32, eps=1e-05, momentum=0.1, affine=True, track_running_stats=True)\n",
      "    (2): ReLU()\n",
      "    (3): MaxPool2d(kernel_size=2, stride=2, padding=0, dilation=1, ceil_mode=False)\n",
      "  )\n",
      "  (layer2): Sequential(\n",
      "    (0): Conv2d(32, 64, kernel_size=(3, 3), stride=(1, 1))\n",
      "    (1): BatchNorm2d(64, eps=1e-05, momentum=0.1, affine=True, track_running_stats=True)\n",
      "    (2): ReLU()\n",
      "    (3): MaxPool2d(kernel_size=2, stride=2, padding=0, dilation=1, ceil_mode=False)\n",
      "  )\n",
      "  (fc1): Linear(in_features=2304, out_features=600, bias=True)\n",
      "  (drop): Dropout2d(p=0.25, inplace=False)\n",
      "  (fc2): Linear(in_features=600, out_features=120, bias=True)\n",
      "  (fc3): Linear(in_features=120, out_features=10, bias=True)\n",
      ")\n"
     ]
    }
   ],
   "source": [
    "learning_rate = 0.001\n",
    "model = FashionCNN().to(device)\n",
    "criterion = nn.CrossEntropyLoss()\n",
    "optimizer = torch.optim.Adam(model.parameters(), lr=learning_rate)\n",
    "print(model)"
   ]
  },
  {
   "cell_type": "code",
   "execution_count": 8,
   "metadata": {},
   "outputs": [],
   "source": [
    "num_epochs = 5\n",
    "count = 0\n",
    "loss_lst, iteration_lst, accuracy_lst = [], [], []\n",
    "predictions_lst, labels_lst = [], []"
   ]
  },
  {
   "cell_type": "code",
   "execution_count": 9,
   "metadata": {},
   "outputs": [
    {
     "name": "stderr",
     "output_type": "stream",
     "text": [
      "c:\\Users\\rubin\\anaconda3\\envs\\torch_book\\lib\\site-packages\\torch\\nn\\functional.py:718: UserWarning: Named tensors and all their associated APIs are an experimental feature and subject to change. Please do not use them for anything important until they are released as stable. (Triggered internally at  ..\\c10/core/TensorImpl.h:1156.)\n",
      "  return torch.max_pool2d(input, kernel_size, stride, padding, dilation, ceil_mode)\n"
     ]
    },
    {
     "name": "stdout",
     "output_type": "stream",
     "text": [
      "Iteration : 500,  Loss : 0.5042083859443665,  Accuracy : 88.07999420166016\n",
      "Iteration : 1000,  Loss : 0.2919063866138458,  Accuracy : 88.47000122070312\n",
      "Iteration : 1500,  Loss : 0.3153984844684601,  Accuracy : 87.45999908447266\n",
      "Iteration : 2000,  Loss : 0.24187734723091125,  Accuracy : 89.38999938964844\n",
      "Iteration : 2500,  Loss : 0.17871467769145966,  Accuracy : 89.18000030517578\n",
      "Iteration : 3000,  Loss : 0.13069751858711243,  Accuracy : 89.52999877929688\n"
     ]
    }
   ],
   "source": [
    "for epoch in range(num_epochs):\n",
    "    for images, labels in train_loader:\n",
    "        images, labels = images.to(device), labels.to(device)\n",
    "        train = Variable(images.view(100, 1, 28, 28))\n",
    "        labels = Variable(labels)\n",
    "        \n",
    "        outputs = model(train)\n",
    "        loss = criterion(outputs, labels)\n",
    "        optimizer.zero_grad()\n",
    "        loss.backward()\n",
    "        optimizer.step()\n",
    "        count += 1\n",
    "        \n",
    "        if not (count % 50):\n",
    "            total = 0\n",
    "            correct = 0\n",
    "            for images, labels in test_loader:\n",
    "                images, labels = images.to(device), labels.to(device)\n",
    "                labels_lst.append(labels)\n",
    "                test = Variable(images.view(100, 1, 28, 28))\n",
    "                outputs = model(test)\n",
    "                predictions = torch.max(outputs, 1)[1].to(device)\n",
    "                predictions_lst.append(predictions)\n",
    "                correct += (predictions == labels).sum()\n",
    "                total += len(labels)\n",
    "            \n",
    "            accuracy = correct * 100 / total\n",
    "            loss_lst.append(loss.data)\n",
    "            iteration_lst.append(count)\n",
    "            accuracy_lst.append(accuracy)\n",
    "        \n",
    "        if not (count % 500):\n",
    "            print(f\"Iteration : {count},  Loss : {loss.data},  Accuracy : {accuracy}\")"
   ]
  },
  {
   "cell_type": "code",
   "execution_count": 14,
   "metadata": {},
   "outputs": [
    {
     "data": {
      "text/plain": [
       "(60,\n",
       " [tensor(0.5262, device='cuda:0'),\n",
       "  tensor(0.5547, device='cuda:0'),\n",
       "  tensor(0.5359, device='cuda:0'),\n",
       "  tensor(0.3479, device='cuda:0'),\n",
       "  tensor(0.3598, device='cuda:0'),\n",
       "  tensor(0.3835, device='cuda:0'),\n",
       "  tensor(0.3323, device='cuda:0'),\n",
       "  tensor(0.4791, device='cuda:0'),\n",
       "  tensor(0.6184, device='cuda:0'),\n",
       "  tensor(0.5042, device='cuda:0'),\n",
       "  tensor(0.3959, device='cuda:0'),\n",
       "  tensor(0.2558, device='cuda:0'),\n",
       "  tensor(0.3075, device='cuda:0'),\n",
       "  tensor(0.3195, device='cuda:0'),\n",
       "  tensor(0.3528, device='cuda:0'),\n",
       "  tensor(0.3097, device='cuda:0'),\n",
       "  tensor(0.2908, device='cuda:0'),\n",
       "  tensor(0.3571, device='cuda:0'),\n",
       "  tensor(0.2681, device='cuda:0'),\n",
       "  tensor(0.2919, device='cuda:0'),\n",
       "  tensor(0.5271, device='cuda:0'),\n",
       "  tensor(0.3580, device='cuda:0'),\n",
       "  tensor(0.3610, device='cuda:0'),\n",
       "  tensor(0.2018, device='cuda:0'),\n",
       "  tensor(0.2362, device='cuda:0'),\n",
       "  tensor(0.1944, device='cuda:0'),\n",
       "  tensor(0.3292, device='cuda:0'),\n",
       "  tensor(0.2354, device='cuda:0'),\n",
       "  tensor(0.2527, device='cuda:0'),\n",
       "  tensor(0.3154, device='cuda:0'),\n",
       "  tensor(0.2278, device='cuda:0'),\n",
       "  tensor(0.3012, device='cuda:0'),\n",
       "  tensor(0.5313, device='cuda:0'),\n",
       "  tensor(0.3019, device='cuda:0'),\n",
       "  tensor(0.3044, device='cuda:0'),\n",
       "  tensor(0.2089, device='cuda:0'),\n",
       "  tensor(0.1989, device='cuda:0'),\n",
       "  tensor(0.1974, device='cuda:0'),\n",
       "  tensor(0.2920, device='cuda:0'),\n",
       "  tensor(0.2419, device='cuda:0'),\n",
       "  tensor(0.2080, device='cuda:0'),\n",
       "  tensor(0.2327, device='cuda:0'),\n",
       "  tensor(0.2099, device='cuda:0'),\n",
       "  tensor(0.3271, device='cuda:0'),\n",
       "  tensor(0.4840, device='cuda:0'),\n",
       "  tensor(0.2737, device='cuda:0'),\n",
       "  tensor(0.2532, device='cuda:0'),\n",
       "  tensor(0.1938, device='cuda:0'),\n",
       "  tensor(0.2088, device='cuda:0'),\n",
       "  tensor(0.1787, device='cuda:0'),\n",
       "  tensor(0.2500, device='cuda:0'),\n",
       "  tensor(0.2357, device='cuda:0'),\n",
       "  tensor(0.1515, device='cuda:0'),\n",
       "  tensor(0.1809, device='cuda:0'),\n",
       "  tensor(0.2432, device='cuda:0'),\n",
       "  tensor(0.3371, device='cuda:0'),\n",
       "  tensor(0.5066, device='cuda:0'),\n",
       "  tensor(0.2765, device='cuda:0'),\n",
       "  tensor(0.2257, device='cuda:0'),\n",
       "  tensor(0.1307, device='cuda:0')])"
      ]
     },
     "execution_count": 14,
     "metadata": {},
     "output_type": "execute_result"
    }
   ],
   "source": [
    "len(loss_lst), loss_lst"
   ]
  },
  {
   "cell_type": "code",
   "execution_count": 13,
   "metadata": {},
   "outputs": [
    {
     "data": {
      "text/plain": [
       "[tensor(79.4300, device='cuda:0'),\n",
       " tensor(84.4500, device='cuda:0'),\n",
       " tensor(84.2700, device='cuda:0'),\n",
       " tensor(85.1700, device='cuda:0'),\n",
       " tensor(85.6000, device='cuda:0'),\n",
       " tensor(86., device='cuda:0'),\n",
       " tensor(87.3700, device='cuda:0'),\n",
       " tensor(85.5700, device='cuda:0'),\n",
       " tensor(85.8200, device='cuda:0'),\n",
       " tensor(88.0800, device='cuda:0'),\n",
       " tensor(87.4100, device='cuda:0'),\n",
       " tensor(87.3900, device='cuda:0'),\n",
       " tensor(88.1900, device='cuda:0'),\n",
       " tensor(88.2400, device='cuda:0'),\n",
       " tensor(86.9000, device='cuda:0'),\n",
       " tensor(87.3800, device='cuda:0'),\n",
       " tensor(88.1600, device='cuda:0'),\n",
       " tensor(87.8200, device='cuda:0'),\n",
       " tensor(87.7600, device='cuda:0'),\n",
       " tensor(88.4700, device='cuda:0'),\n",
       " tensor(86.1500, device='cuda:0'),\n",
       " tensor(88.8400, device='cuda:0'),\n",
       " tensor(88.0800, device='cuda:0'),\n",
       " tensor(87.9600, device='cuda:0'),\n",
       " tensor(89.1900, device='cuda:0'),\n",
       " tensor(89.3700, device='cuda:0'),\n",
       " tensor(88.0400, device='cuda:0'),\n",
       " tensor(89.0400, device='cuda:0'),\n",
       " tensor(88.0200, device='cuda:0'),\n",
       " tensor(87.4600, device='cuda:0'),\n",
       " tensor(89.1900, device='cuda:0'),\n",
       " tensor(89.8100, device='cuda:0'),\n",
       " tensor(87.7200, device='cuda:0'),\n",
       " tensor(90.3000, device='cuda:0'),\n",
       " tensor(89.5000, device='cuda:0'),\n",
       " tensor(88.2800, device='cuda:0'),\n",
       " tensor(89.3200, device='cuda:0'),\n",
       " tensor(89.7200, device='cuda:0'),\n",
       " tensor(88.8600, device='cuda:0'),\n",
       " tensor(89.3900, device='cuda:0'),\n",
       " tensor(88.0800, device='cuda:0'),\n",
       " tensor(88.2800, device='cuda:0'),\n",
       " tensor(89.4500, device='cuda:0'),\n",
       " tensor(89.5500, device='cuda:0'),\n",
       " tensor(88.5900, device='cuda:0'),\n",
       " tensor(90.2800, device='cuda:0'),\n",
       " tensor(89.7100, device='cuda:0'),\n",
       " tensor(89.2500, device='cuda:0'),\n",
       " tensor(89.9400, device='cuda:0'),\n",
       " tensor(89.1800, device='cuda:0'),\n",
       " tensor(90.0800, device='cuda:0'),\n",
       " tensor(89.3300, device='cuda:0'),\n",
       " tensor(88.2000, device='cuda:0'),\n",
       " tensor(89.2800, device='cuda:0'),\n",
       " tensor(89.5400, device='cuda:0'),\n",
       " tensor(89.3900, device='cuda:0'),\n",
       " tensor(88.8500, device='cuda:0'),\n",
       " tensor(90.2600, device='cuda:0'),\n",
       " tensor(89.4500, device='cuda:0'),\n",
       " tensor(89.5300, device='cuda:0')]"
      ]
     },
     "execution_count": 13,
     "metadata": {},
     "output_type": "execute_result"
    }
   ],
   "source": [
    "accuracy_lst"
   ]
  }
 ],
 "metadata": {
  "kernelspec": {
   "display_name": "torch_book",
   "language": "python",
   "name": "python3"
  },
  "language_info": {
   "codemirror_mode": {
    "name": "ipython",
    "version": 3
   },
   "file_extension": ".py",
   "mimetype": "text/x-python",
   "name": "python",
   "nbconvert_exporter": "python",
   "pygments_lexer": "ipython3",
   "version": "3.9.12"
  }
 },
 "nbformat": 4,
 "nbformat_minor": 2
}
