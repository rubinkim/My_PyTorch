{
 "cells": [
  {
   "cell_type": "code",
   "execution_count": 1,
   "id": "b1ce296b-f534-45a7-a150-de37be2c5a1f",
   "metadata": {},
   "outputs": [],
   "source": [
    "# import modules needed\n",
    "import os\n",
    "import time\n",
    "import copy\n",
    "import glob\n",
    "import cv2\n",
    "import shutil\n",
    "import matplotlib.pyplot as plt\n",
    "\n",
    "import torch\n",
    "import torchvision                                  # computer vision package\n",
    "import torchvision.transforms as transforms\n",
    "import torchvision.models as models\n",
    "import torch.nn as nn\n",
    "import torch.optim as optim\n",
    "from torch.utils.data import DataLoader"
   ]
  },
  {
   "cell_type": "code",
   "execution_count": null,
   "id": "b168c986-4cb5-4b78-87dc-262b0e488cd3",
   "metadata": {},
   "outputs": [],
   "source": [
    "transform = transforms.Compose([\n",
    "    transforms.Resize([256, 256]),                  # Adjust image size to 256*256\n",
    "    transforms.RandomResizedCrop(224),              # Crop a random portion of image and resize it to 224\n",
    "    transforms.RandomHorizontalFlip()               # Horizontally flip the given image randomly with a given probability, Default prop is 0.5\n",
    "    transforms.ToTensor()\n",
    "])"
   ]
  },
  {
   "cell_type": "code",
   "execution_count": null,
   "id": "62f28eef-ece8-424b-b7ff-59265b33bb91",
   "metadata": {},
   "outputs": [],
   "source": [
    "data_path = '../My_PyTorch_Data/gilbut/chap05/data/catanddog/train'\n"
   ]
  }
 ],
 "metadata": {
  "kernelspec": {
   "display_name": "Python 3 (ipykernel)",
   "language": "python",
   "name": "python3"
  },
  "language_info": {
   "codemirror_mode": {
    "name": "ipython",
    "version": 3
   },
   "file_extension": ".py",
   "mimetype": "text/x-python",
   "name": "python",
   "nbconvert_exporter": "python",
   "pygments_lexer": "ipython3",
   "version": "3.9.12"
  }
 },
 "nbformat": 4,
 "nbformat_minor": 5
}
